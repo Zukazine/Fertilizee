{
 "cells": [
  {
   "cell_type": "code",
   "execution_count": 51,
   "metadata": {},
   "outputs": [],
   "source": [
    "import folium\n",
    "from shapely.geometry import Polygon\n",
    "from folium import Choropleth\n",
    "import geopandas as gpd\n",
    "import pandas as pd\n",
    "import numpy as np\n",
    "import shapefile\n",
    "\n",
    "def embed_map(m, file_name):\n",
    "    from IPython.display import IFrame\n",
    "    m.save(file_name)\n",
    "    return IFrame(file_name, width='100%', height='500px')"
   ]
  },
  {
   "cell_type": "code",
   "execution_count": 52,
   "metadata": {},
   "outputs": [],
   "source": [
    "indo = gpd.read_file('FIX_INA_Pupuk.shp')\n",
    "# geojson_data = shapefile.Reader(\"FIX_INA_Pupuk.shp\").__geo_interface__\n",
    "# print(geojson_data)"
   ]
  },
  {
   "cell_type": "code",
   "execution_count": 53,
   "metadata": {},
   "outputs": [],
   "source": [
    "pupuk = list(indo.Data_untuk)\n",
    "pupuk_conv = [float(x.replace('.', '').replace(',','.')) for x in pupuk]\n",
    "indo.Data_untuk = pupuk_conv\n",
    "\n",
    "# type(indo.Data_untuk[0])\n",
    "# type(indo.Data_untuk.item())"
   ]
  },
  {
   "cell_type": "code",
   "execution_count": 54,
   "metadata": {},
   "outputs": [
    {
     "data": {
      "text/plain": [
       "0    10912\n",
       "1    11890\n",
       "2    28961\n",
       "3     4128\n",
       "4     8604\n",
       "Name: Data_untuk, dtype: int32"
      ]
     },
     "execution_count": 54,
     "metadata": {},
     "output_type": "execute_result"
    }
   ],
   "source": [
    "num = indo.Data_untuk.astype('int')\n",
    "num.head()\n",
    "# type(num[0])"
   ]
  },
  {
   "cell_type": "code",
   "execution_count": 61,
   "metadata": {},
   "outputs": [
    {
     "data": {
      "text/html": [
       "\n",
       "        <iframe\n",
       "            width=\"100%\"\n",
       "            height=\"500px\"\n",
       "            src=\"rotichoro.html\"\n",
       "            frameborder=\"0\"\n",
       "            allowfullscreen\n",
       "            \n",
       "        ></iframe>\n",
       "        "
      ],
      "text/plain": [
       "<IPython.lib.display.IFrame at 0x2c54cc50b50>"
      ]
     },
     "execution_count": 61,
     "metadata": {},
     "output_type": "execute_result"
    }
   ],
   "source": [
    "m = folium.Map(location=[0.7893,113.9213], tiles = 'cartodbpositron', zoom_start=4)\n",
    "\n",
    "wilayah = indo[[\"Provinsi\", \"geometry\"]]\n",
    "demand = indo.Data_untuk\n",
    "soil_index = indo.MEAN\n",
    "\n",
    "Choropleth(geo_data = wilayah.__geo_interface__,\n",
    "           data = demand,\n",
    "           key_on='feature.id',\n",
    "           fill_color='OrRd',\n",
    "           legend_name='Demand Pupuk',\n",
    "           line_color = 'Red'\n",
    "           ).add_to(m)\n",
    "\n",
    "Choropleth(geo_data = wilayah.__geo_interface__,\n",
    "           data = soil_index,\n",
    "           key_on='feature.id',\n",
    "           fill_color='Greens',\n",
    "           legend_name='Soil index',\n",
    "           line_color = 'Red'\n",
    "           ).add_to(m)\n",
    "\n",
    "embed_map(m, 'rotichoro.html')\n",
    "\n"
   ]
  }
 ],
 "metadata": {
  "kernelspec": {
   "display_name": "Python 3",
   "language": "python",
   "name": "python3"
  },
  "language_info": {
   "codemirror_mode": {
    "name": "ipython",
    "version": 3
   },
   "file_extension": ".py",
   "mimetype": "text/x-python",
   "name": "python",
   "nbconvert_exporter": "python",
   "pygments_lexer": "ipython3",
   "version": "3.11.5"
  }
 },
 "nbformat": 4,
 "nbformat_minor": 2
}
